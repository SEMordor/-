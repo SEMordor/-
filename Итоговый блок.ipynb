{
 "cells": [
  {
   "cell_type": "code",
   "execution_count": null,
   "id": "b0aae38d",
   "metadata": {},
   "outputs": [],
   "source": [
    "import pandas as pd\n",
    "import numpy as np\n",
    "import matplotlib.pyplot as plt\n",
    "import seaborn as sns"
   ]
  },
  {
   "cell_type": "code",
   "execution_count": null,
   "id": "9c444a93",
   "metadata": {},
   "outputs": [],
   "source": [
    "# Задание 1 загрузка данных\n",
    "df=pd.read_csv('HR.csv')\n",
    "df.info()\n",
    "df.head()"
   ]
  },
  {
   "cell_type": "code",
   "execution_count": null,
   "id": "1eefa66b",
   "metadata": {},
   "outputs": [],
   "source": [
    "# Задание 2 расчет основных статистик\n",
    "# Максимальные значения\n",
    "print('максимальные значения')\n",
    "print(\"Уровень удовлетворенности работой\",(df['satisfaction_level'].max()))\n",
    "print(\"Время с последней оценки\",(df['last_evaluation'].max()))\n",
    "print(\"кол-во проектов\",(df['number_project'].max()))\n",
    "print(\"кол-во часов\",(df['average_montly_hours'].max()))\n",
    "print(\"Стаж работы\",(df['time_spend_company'].max()))\n",
    "# Минимальные значения\n",
    "print('минимальные значения')\n",
    "print(\"Уровень удовлетворенности работой\",(df['satisfaction_level'].min()))\n",
    "print(\"Время с последней оценки\",(df['last_evaluation'].min()))\n",
    "print(\"кол-во проектов\",(df['number_project'].min()))\n",
    "print(\"кол-во часов\",(df['average_montly_hours'].min()))\n",
    "print(\"Стаж работы\",(df['time_spend_company'].min()))\n",
    "# Среднее значение\n",
    "print('средние значения')\n",
    "print(\"Уровень удовлетворенности работой\",(df['satisfaction_level'].mean()))\n",
    "print(\"Время с последней оценки\",(df['last_evaluation'].mean()))\n",
    "print(\"кол-во проектов\",(df['number_project'].mean()))\n",
    "print(\"кол-во часов\",(df['average_montly_hours'].mean()))\n",
    "print(\"Стаж работы\",(df['time_spend_company'].mean()))\n",
    "# Мода\n",
    "print('мода')\n",
    "print('Уровень удовлетворенности работой', df['satisfaction_level'].mode()[0])\n",
    "print('Время с последней оценки', df['last_evaluation'].mode()[0])\n",
    "print('кол-во проектов', df['number_project'].mode()[0])\n",
    "print('кол-во часов', df['average_montly_hours'].mode()[0])\n",
    "print('Стаж работы', df['time_spend_company'].mode()[0])\n",
    "# Медиана\n",
    "print('медиана')\n",
    "print('Уровень удовлетворенности работой',(np.median(df['satisfaction_level'])))\n",
    "print('Время с последней оценки',(np.median(df['last_evaluation'])))\n",
    "print('кол-во проектов',(np.median(df['number_project'])))\n",
    "print('кол-во часов',(np.median(df['average_montly_hours'])))\n",
    "print('Стаж работы',(np.median(df['time_spend_company'])))\n",
    "# Среднеквадратичное отклонение\n",
    "print('СКО')\n",
    "print('Уровень удовлетворенности работой',(df['satisfaction_level'].std()))\n",
    "print('Время с последней оценки',(df['last_evaluation'].std()))\n",
    "print('кол-во проектов',(df['number_project'].std()))\n",
    "print('кол-во часов',(df['average_montly_hours'].std()))\n",
    "print('Стаж работы',(df['time_spend_company'].std()))"
   ]
  },
  {
   "cell_type": "code",
   "execution_count": null,
   "id": "71c33a78",
   "metadata": {},
   "outputs": [],
   "source": [
    "# Задание 3 Корреляционная матрица\n",
    "df2=pd.read_csv('HR.csv',usecols=[0,1,2,3,4])\n",
    "corr = df2.corr()\n",
    "corr.style.background_gradient(cmap='seismic')\n"
   ]
  },
  {
   "cell_type": "code",
   "execution_count": null,
   "id": "eeb3cd3f",
   "metadata": {},
   "outputs": [],
   "source": [
    "# Скоррелированные переменные\n",
    "# average_montly_hours и number_project (кол-во часов и кол-во проектов)\n",
    "# number_project и last_evaluation (кол-во проектов и Время с последней оценки)\n",
    "# Не скоррелированные переменные\n",
    "# last_evaluation и satisfaction_level (Время с последней оценки и Уровень удовлетворенности работой)\n",
    "# time_spend_company и satisfaction_level (Стаж работы и Уровень удовлетворенности работой)"
   ]
  },
  {
   "cell_type": "code",
   "execution_count": null,
   "id": "cc41f9d6",
   "metadata": {},
   "outputs": [],
   "source": [
    "# Задание 4\n",
    "df.groupby('department')['department'].count()"
   ]
  },
  {
   "cell_type": "code",
   "execution_count": null,
   "id": "b8c9d5a7",
   "metadata": {},
   "outputs": [],
   "source": [
    "# Задание 5\n",
    "df.groupby('salary')['salary'].count()"
   ]
  },
  {
   "cell_type": "code",
   "execution_count": null,
   "id": "ba2f05fc",
   "metadata": {},
   "outputs": [],
   "source": [
    "# Задание 6\n",
    "df.groupby([df['department'],df['salary']])[['salary']].count()"
   ]
  },
  {
   "cell_type": "code",
   "execution_count": null,
   "id": "54bcb21a",
   "metadata": {},
   "outputs": [],
   "source": [
    "# Задание 7 кто проводит на работе больше времени\n",
    "df_h_salary = list(df.loc[df['salary'] == 'high']['average_montly_hours'])\n",
    "df_l_salary = list(df.loc[df['salary'] == 'low']['average_montly_hours'])\n",
    "plt.hist(df_h_salary, bins=50, alpha=1,density=True, label='high salary')\n",
    "plt.hist(df_l_salary, bins=50,alpha=0.6, density=True, label='low salary')\n",
    "plt.legend(loc='upper right', bbox_to_anchor=(0.90, 0.90))\n",
    "plt.show()\n",
    "# судя по графику сотрудники с высокой зарплатой проводят на работе немного больше времени"
   ]
  },
  {
   "cell_type": "code",
   "execution_count": null,
   "id": "c5638a50",
   "metadata": {},
   "outputs": [],
   "source": [
    "# Задание 8 Уволившиеся и не уволившиеся сотрудники\n",
    "# Расчитываем среди уволившихся\n",
    "df_left = df.loc[df['left'] == 1]\n",
    "df_left.head()"
   ]
  },
  {
   "cell_type": "code",
   "execution_count": null,
   "id": "85e474d7",
   "metadata": {},
   "outputs": [],
   "source": [
    "# Повышение за последние 5 лет\n",
    "len(df_left.loc[df_left['promotion_last_5years'] == 1])/len(df_left)"
   ]
  },
  {
   "cell_type": "code",
   "execution_count": null,
   "id": "5c20817f",
   "metadata": {},
   "outputs": [],
   "source": [
    "# Средняя степень удовлетворенности\n",
    "df_left['satisfaction_level'].mean()"
   ]
  },
  {
   "cell_type": "code",
   "execution_count": null,
   "id": "bde10635",
   "metadata": {},
   "outputs": [],
   "source": [
    "# Кол-во проектов\n",
    "df_left['number_project'].mean()"
   ]
  },
  {
   "cell_type": "code",
   "execution_count": null,
   "id": "7894e681",
   "metadata": {},
   "outputs": [],
   "source": [
    "# Расчитываем среди работающих\n",
    "df_working = df.loc[df['left'] == 0]\n",
    "df_working.head()"
   ]
  },
  {
   "cell_type": "code",
   "execution_count": null,
   "id": "b87d8938",
   "metadata": {},
   "outputs": [],
   "source": [
    "# Повышение за последние 5 лет\n",
    "len(df_working.loc[df_working['promotion_last_5years'] == 1])/len(df_working)"
   ]
  },
  {
   "cell_type": "code",
   "execution_count": null,
   "id": "69b44880",
   "metadata": {},
   "outputs": [],
   "source": [
    "# Средняя степень удовлетворенности\n",
    "df_working['satisfaction_level'].mean()"
   ]
  },
  {
   "cell_type": "code",
   "execution_count": null,
   "id": "99c6ca48",
   "metadata": {},
   "outputs": [],
   "source": [
    "# Кол-во проектов\n",
    "df_working['number_project'].mean()"
   ]
  }
 ],
 "metadata": {
  "kernelspec": {
   "display_name": "Python 3 (ipykernel)",
   "language": "python",
   "name": "python3"
  },
  "language_info": {
   "codemirror_mode": {
    "name": "ipython",
    "version": 3
   },
   "file_extension": ".py",
   "mimetype": "text/x-python",
   "name": "python",
   "nbconvert_exporter": "python",
   "pygments_lexer": "ipython3",
   "version": "3.10.9"
  }
 },
 "nbformat": 4,
 "nbformat_minor": 5
}
